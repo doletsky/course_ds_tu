{
 "cells": [
  {
   "cell_type": "markdown",
   "id": "0b9bdfcb",
   "metadata": {},
   "source": [
    "# Практическое задание № 1\n",
    "\n",
    "## Выполнил: Долецкий Александр Николаевич"
   ]
  },
  {
   "cell_type": "markdown",
   "id": "45aa810a",
   "metadata": {},
   "source": [
    "Первая программа на языке программирования Python\n",
    "1. Создайте структуру данных, описывающую закрытую социальную сеть (не менее 10 пользователей). \n",
    "Используйте списки и словари для установления взаимосвязей пользователей. \n",
    "2. Создайте функцию, определяющую количество друзей у выбранного пользователя.\n",
    "3. Создайте функцию, выводящую на экран пользователей, отсортированных по количеству друзей."
   ]
  },
  {
   "cell_type": "markdown",
   "id": "299d0556",
   "metadata": {},
   "source": [
    "### Частная социальная сеть"
   ]
  },
  {
   "cell_type": "markdown",
   "id": "e9c87951",
   "metadata": {},
   "source": [
    "<img src=\"MindMap1.jpg\">"
   ]
  },
  {
   "cell_type": "code",
   "execution_count": 2,
   "id": "b7a17e71",
   "metadata": {},
   "outputs": [
    {
     "data": {
      "text/plain": [
       "list"
      ]
     },
     "execution_count": 2,
     "metadata": {},
     "output_type": "execute_result"
    }
   ],
   "source": [
    "users = [\n",
    "{\"id\": 0, \"name\": \"Алексей\"},\n",
    "{\"id\": 1, \"name\" : \"Петр\"},\n",
    "{\"id\": 2, \"name\": \"Александр\"},\n",
    "{\"id\": 3, \"name\": \"Сергей\"},\n",
    "{\"id\": 4, \"name\": \"Катя\"},\n",
    "{\"id\": 5, \"name\": \"Владимир\"},\n",
    "{\"id\": 6, \"name\": \"Аня\"},\n",
    "{\"id\": 7, \"name\": \"Дмитрий\"},\n",
    "{\"id\": 8, \"name\": \"Ирина\"},\n",
    "{\"id\": 9, \"name\": \"Дарья\"},\n",
    "{\"id\": 10, \"name\": \"Женя\"}\n",
    "]\n",
    "type(users)"
   ]
  },
  {
   "cell_type": "code",
   "execution_count": 3,
   "id": "514ecded",
   "metadata": {},
   "outputs": [
    {
     "data": {
      "text/plain": [
       "(list,\n",
       " [(0, 1),\n",
       "  (0, 2),\n",
       "  (1, 2),\n",
       "  (1, 3),\n",
       "  (3, 4),\n",
       "  (4, 5),\n",
       "  (4, 10),\n",
       "  (5, 6),\n",
       "  (5, 7),\n",
       "  (5, 8),\n",
       "  (6, 8),\n",
       "  (7, 8),\n",
       "  (8, 9),\n",
       "  (10, 2),\n",
       "  (10, 6)])"
      ]
     },
     "execution_count": 3,
     "metadata": {},
     "output_type": "execute_result"
    }
   ],
   "source": [
    "fp = [ (0, 1), (0, 2), (1, 2), (1, 3), (3, 4),\n",
    "(4, 5),(4,10), (5, 6), (5, 7), (5, 8), (6, 8), (7, 8), (8, 9), (10,2), (10,6)]\n",
    "type(fp), fp"
   ]
  },
  {
   "cell_type": "code",
   "execution_count": 4,
   "id": "45310826",
   "metadata": {
    "scrolled": true
   },
   "outputs": [
    {
     "data": {
      "text/plain": [
       "(dict,\n",
       " {0: [],\n",
       "  1: [],\n",
       "  2: [],\n",
       "  3: [],\n",
       "  4: [],\n",
       "  5: [],\n",
       "  6: [],\n",
       "  7: [],\n",
       "  8: [],\n",
       "  9: [],\n",
       "  10: []})"
      ]
     },
     "execution_count": 4,
     "metadata": {},
     "output_type": "execute_result"
    }
   ],
   "source": [
    "# Инициализировать словарь пустым списком для идентификатора\n",
    "# каждого пользователя\n",
    "friendships = {user[\"id\"]: [] for user in users}\n",
    "type(friendships), friendships"
   ]
  },
  {
   "cell_type": "code",
   "execution_count": 5,
   "id": "aa8f24a9",
   "metadata": {},
   "outputs": [],
   "source": [
    "for i, j in fp:\n",
    "    friendships[i].append(j) # Добавить j как друга для i\n",
    "    friendships[j].append(i) # Добавить i как друга ДЛЯ j"
   ]
  },
  {
   "cell_type": "code",
   "execution_count": 6,
   "id": "ad1fa103",
   "metadata": {
    "scrolled": true
   },
   "outputs": [
    {
     "data": {
      "text/plain": [
       "{0: [1, 2],\n",
       " 1: [0, 2, 3],\n",
       " 2: [0, 1, 10],\n",
       " 3: [1, 4],\n",
       " 4: [3, 5, 10],\n",
       " 5: [4, 6, 7, 8],\n",
       " 6: [5, 8, 10],\n",
       " 7: [5, 8],\n",
       " 8: [5, 6, 7, 9],\n",
       " 9: [8],\n",
       " 10: [4, 2, 6]}"
      ]
     },
     "execution_count": 6,
     "metadata": {},
     "output_type": "execute_result"
    }
   ],
   "source": [
    "friendships"
   ]
  },
  {
   "cell_type": "markdown",
   "id": "0d7ff473",
   "metadata": {},
   "source": [
    "2. Функция, определяющяя количество друзей у выбранного пользователя\n",
    "   "
   ]
  },
  {
   "cell_type": "markdown",
   "id": "46050f94",
   "metadata": {},
   "source": [
    "Написать функцию, которая определяет сколько друзей есть у пользователя user<br>\n",
    "def number_of_friends(u):<br>\n",
    " * в локальную переменную user_id присвоить значение по ключу id из словаря u - {'id': 0, 'name': 'Алексей'}<br>\n",
    " * в локальную переменную friend_ids присвоить значение по ключу из словаря friendships - 3: [1, 4] \n",
    " * у функции возвращаем количество элементов списка friend_ids"
   ]
  },
  {
   "cell_type": "code",
   "execution_count": 10,
   "id": "c3c9caaa",
   "metadata": {},
   "outputs": [],
   "source": [
    "def number_of_friends(u):\n",
    "    user_id=u['id']\n",
    "    friend_ids=friendships[user_id]\n",
    "    return len(friend_ids)\n",
    "   ### написать код "
   ]
  },
  {
   "cell_type": "code",
   "execution_count": 21,
   "id": "7fe49e2b",
   "metadata": {},
   "outputs": [
    {
     "data": {
      "text/plain": [
       "{'id': 0, 'name': 'Алексей'}"
      ]
     },
     "execution_count": 21,
     "metadata": {},
     "output_type": "execute_result"
    }
   ],
   "source": [
    "users[0]"
   ]
  },
  {
   "cell_type": "code",
   "execution_count": 12,
   "id": "3443e71f",
   "metadata": {},
   "outputs": [
    {
     "data": {
      "text/plain": [
       "2"
      ]
     },
     "execution_count": 12,
     "metadata": {},
     "output_type": "execute_result"
    }
   ],
   "source": [
    "number_of_friends(users[0]) #выводит количество друзей"
   ]
  },
  {
   "cell_type": "markdown",
   "id": "e353dca6",
   "metadata": {},
   "source": [
    "3. Функция, выводящая на экран пользователей, отсортированных по количеству друзей"
   ]
  },
  {
   "cell_type": "markdown",
   "id": "5e2a76ac",
   "metadata": {},
   "source": [
    "создать список num_friends_by_name, который содержит имя пользователя user[\"name\"] и число его друзей number_of_friends(user)"
   ]
  },
  {
   "cell_type": "code",
   "execution_count": 13,
   "id": "6a5bdc7a",
   "metadata": {},
   "outputs": [],
   "source": [
    "num_friends_by_name = [(x['name'], number_of_friends(x)) for x in users]### написать код"
   ]
  },
  {
   "cell_type": "code",
   "execution_count": 14,
   "id": "eb5bf6f6",
   "metadata": {},
   "outputs": [
    {
     "data": {
      "text/plain": [
       "(list,\n",
       " [('Алексей', 2),\n",
       "  ('Петр', 3),\n",
       "  ('Александр', 3),\n",
       "  ('Сергей', 2),\n",
       "  ('Катя', 3),\n",
       "  ('Владимир', 4),\n",
       "  ('Аня', 3),\n",
       "  ('Дмитрий', 2),\n",
       "  ('Ирина', 4),\n",
       "  ('Дарья', 1),\n",
       "  ('Женя', 3)])"
      ]
     },
     "execution_count": 14,
     "metadata": {},
     "output_type": "execute_result"
    }
   ],
   "source": [
    "type(num_friends_by_name), num_friends_by_name"
   ]
  },
  {
   "cell_type": "markdown",
   "id": "50b086bb",
   "metadata": {},
   "source": [
    "Отсортировать список по числу друзей "
   ]
  },
  {
   "cell_type": "code",
   "execution_count": 17,
   "id": "27f59286",
   "metadata": {},
   "outputs": [],
   "source": [
    "num_friends_by_name.sort(key=lambda x:x[1], reverse=True)\n",
    "# Каждая пара представлена кортежем (name, num_friends),\n",
    "# т. е. именем пользователя и числом друзей"
   ]
  },
  {
   "cell_type": "code",
   "execution_count": 18,
   "id": "bb4da4b4",
   "metadata": {},
   "outputs": [
    {
     "name": "stdout",
     "output_type": "stream",
     "text": [
      "[('Владимир', 4), ('Ирина', 4), ('Петр', 3), ('Александр', 3), ('Катя', 3), ('Аня', 3), ('Женя', 3), ('Алексей', 2), ('Сергей', 2), ('Дмитрий', 2), ('Дарья', 1)]\n"
     ]
    }
   ],
   "source": [
    "print(num_friends_by_name)"
   ]
  },
  {
   "cell_type": "markdown",
   "id": "05fb575d",
   "metadata": {},
   "source": [
    "4. Порекомендуем пользователю список возможных друзей из числа \"друзья друзей\" (НЕОБЯЗАТЕЛЬНО)"
   ]
  },
  {
   "cell_type": "code",
   "execution_count": 24,
   "id": "fa2b3102",
   "metadata": {},
   "outputs": [
    {
     "data": {
      "text/plain": [
       "['Сергей', 'Женя']"
      ]
     },
     "execution_count": 24,
     "metadata": {},
     "output_type": "execute_result"
    }
   ],
   "source": [
    "### Изменить данную функцию, чтобы она выводила Имена пользователей из списка друзья друзей\n",
    "def friends_of_friends(user):\n",
    "    user_id = user[\"id\"]\n",
    "    return [users[ff_id]['name']\n",
    "            for friend_id in friendships[user_id]\n",
    "            for ff_id in friendships[friend_id]\n",
    "            if ff_id != user_id and ff_id not in friendships[user_id]]\n",
    "friends_of_friends(users[0])"
   ]
  },
  {
   "cell_type": "code",
   "execution_count": 26,
   "id": "b50353ec",
   "metadata": {},
   "outputs": [
    {
     "data": {
      "text/plain": [
       "['Сергей', 'Женя']"
      ]
     },
     "execution_count": 26,
     "metadata": {},
     "output_type": "execute_result"
    }
   ],
   "source": [
    "friends_of_friends(users[0])"
   ]
  },
  {
   "cell_type": "markdown",
   "id": "b2f6d774",
   "metadata": {},
   "source": [
    "создать список с кортежами Имя пользователя , Список имен рекомендованных друзей"
   ]
  },
  {
   "cell_type": "code",
   "execution_count": 28,
   "id": "5b2c659f",
   "metadata": {},
   "outputs": [],
   "source": [
    "num_friends_by_friend = [(x['name'],[friends_of_friends(x)]) for x in users]### написать код"
   ]
  },
  {
   "cell_type": "code",
   "execution_count": 29,
   "id": "bf0e20a9",
   "metadata": {},
   "outputs": [
    {
     "data": {
      "text/plain": [
       "[('Алексей', [['Сергей', 'Женя']]),\n",
       " ('Петр', [['Женя', 'Катя']]),\n",
       " ('Александр', [['Сергей', 'Катя', 'Аня']]),\n",
       " ('Сергей', [['Алексей', 'Александр', 'Владимир', 'Женя']]),\n",
       " ('Катя', [['Петр', 'Аня', 'Дмитрий', 'Ирина', 'Александр', 'Аня']]),\n",
       " ('Владимир', [['Сергей', 'Женя', 'Женя', 'Дарья']]),\n",
       " ('Аня', [['Катя', 'Дмитрий', 'Дмитрий', 'Дарья', 'Катя', 'Александр']]),\n",
       " ('Дмитрий', [['Катя', 'Аня', 'Аня', 'Дарья']]),\n",
       " ('Ирина', [['Катя', 'Женя']]),\n",
       " ('Дарья', [['Владимир', 'Аня', 'Дмитрий']]),\n",
       " ('Женя', [['Сергей', 'Владимир', 'Алексей', 'Петр', 'Владимир', 'Ирина']])]"
      ]
     },
     "execution_count": 29,
     "metadata": {},
     "output_type": "execute_result"
    }
   ],
   "source": [
    "num_friends_by_friend"
   ]
  }
 ],
 "metadata": {
  "kernelspec": {
   "display_name": "Python 3 (ipykernel)",
   "language": "python",
   "name": "python3"
  },
  "language_info": {
   "codemirror_mode": {
    "name": "ipython",
    "version": 3
   },
   "file_extension": ".py",
   "mimetype": "text/x-python",
   "name": "python",
   "nbconvert_exporter": "python",
   "pygments_lexer": "ipython3",
   "version": "3.9.7"
  }
 },
 "nbformat": 4,
 "nbformat_minor": 5
}
